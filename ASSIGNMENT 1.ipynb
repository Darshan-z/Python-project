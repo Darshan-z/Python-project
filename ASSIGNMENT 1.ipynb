{
 "cells": [
  {
   "cell_type": "code",
   "execution_count": 11,
   "id": "e463f3f1-312b-408f-9bdd-40f78f4c57a0",
   "metadata": {},
   "outputs": [
    {
     "name": "stdout",
     "output_type": "stream",
     "text": [
      "Name:B S Darshan\n",
      "USN: 1AY24BT010 \n",
      "Section: N\n",
      " \n",
      "Welcome to 'Guess the Number'!\n",
      "I'm thinking of a number between 1 and 10.\n"
     ]
    },
    {
     "name": "stdin",
     "output_type": "stream",
     "text": [
      "Take a guess:  2\n"
     ]
    },
    {
     "name": "stdout",
     "output_type": "stream",
     "text": [
      "Too low. Try again.\n"
     ]
    },
    {
     "name": "stdin",
     "output_type": "stream",
     "text": [
      "Take a guess:  4\n"
     ]
    },
    {
     "name": "stdout",
     "output_type": "stream",
     "text": [
      "Too high. Try again.\n"
     ]
    },
    {
     "name": "stdin",
     "output_type": "stream",
     "text": [
      "Take a guess:  5\n"
     ]
    },
    {
     "name": "stdout",
     "output_type": "stream",
     "text": [
      "Too high. Try again.\n"
     ]
    },
    {
     "name": "stdin",
     "output_type": "stream",
     "text": [
      "Take a guess:  6\n"
     ]
    },
    {
     "name": "stdout",
     "output_type": "stream",
     "text": [
      "Too high. Try again.\n"
     ]
    },
    {
     "name": "stdin",
     "output_type": "stream",
     "text": [
      "Take a guess:  1\n"
     ]
    },
    {
     "name": "stdout",
     "output_type": "stream",
     "text": [
      "Too low. Try again.\n"
     ]
    },
    {
     "name": "stdin",
     "output_type": "stream",
     "text": [
      "Take a guess:  2\n"
     ]
    },
    {
     "name": "stdout",
     "output_type": "stream",
     "text": [
      "Too low. Try again.\n"
     ]
    },
    {
     "name": "stdin",
     "output_type": "stream",
     "text": [
      "Take a guess:  3\n"
     ]
    },
    {
     "name": "stdout",
     "output_type": "stream",
     "text": [
      "Congratulations! You guessed the number in 7 attempts.\n"
     ]
    }
   ],
   "source": [
    "#Guess the number\n",
    "print('Name:B S Darshan\\nUSN: 1AY24BT010 \\nSection: N\\n ')\n",
    "import random\n",
    "\n",
    "def guess_the_number():\n",
    "    number_to_guess = random.randint(1, 10)\n",
    "    guess = None\n",
    "    attempts = 0\n",
    "\n",
    "    print(\"Welcome to 'Guess the Number'!\")\n",
    "    print(\"I'm thinking of a number between 1 and 10.\")\n",
    "\n",
    "    while guess != number_to_guess:\n",
    "        try:\n",
    "            guess = int(input(\"Take a guess: \"))\n",
    "            attempts += 1\n",
    "\n",
    "            if guess < number_to_guess:\n",
    "                print(\"Too low. Try again.\")\n",
    "            elif guess > number_to_guess:\n",
    "                print(\"Too high. Try again.\")\n",
    "            else:\n",
    "                print(f\"Congratulations! You guessed the number in {attempts} attempts.\")\n",
    "        except ValueError:\n",
    "            print(\"Please enter a valid integer.\")\n",
    "\n",
    "guess_the_number()"
   ]
  },
  {
   "cell_type": "code",
   "execution_count": 13,
   "id": "b5233073-03d0-4830-8383-7e578579252f",
   "metadata": {},
   "outputs": [
    {
     "name": "stdout",
     "output_type": "stream",
     "text": [
      "Name:B S Darshan\n",
      "USN: 1AY24BT010 \n",
      "Section: N\n",
      " \n",
      "Welcome to Rock, Paper, Scissors!\n"
     ]
    },
    {
     "name": "stdin",
     "output_type": "stream",
     "text": [
      "Choose rock, paper, or scissors (or 'quit' to exit):  rock\n"
     ]
    },
    {
     "name": "stdout",
     "output_type": "stream",
     "text": [
      "Computer chose: scissors\n",
      "You win!\n"
     ]
    },
    {
     "name": "stdin",
     "output_type": "stream",
     "text": [
      "Choose rock, paper, or scissors (or 'quit' to exit):  paper\n"
     ]
    },
    {
     "name": "stdout",
     "output_type": "stream",
     "text": [
      "Computer chose: rock\n",
      "You win!\n"
     ]
    },
    {
     "name": "stdin",
     "output_type": "stream",
     "text": [
      "Choose rock, paper, or scissors (or 'quit' to exit):  quit\n"
     ]
    },
    {
     "name": "stdout",
     "output_type": "stream",
     "text": [
      "Thanks for playing!\n"
     ]
    }
   ],
   "source": [
    "#Rock paper scissors\n",
    "print('Name:B S Darshan\\nUSN: 1AY24BT010 \\nSection: N\\n ')\n",
    "import random\n",
    "\n",
    "def rock_paper_scissors():\n",
    "    choices = [\"rock\", \"paper\", \"scissors\"]\n",
    "    print(\"Welcome to Rock, Paper, Scissors!\")\n",
    "    \n",
    "    while True:\n",
    "        user_choice = input(\"Choose rock, paper, or scissors (or 'quit' to exit): \").lower()\n",
    "        if user_choice == \"quit\":\n",
    "            print(\"Thanks for playing!\")\n",
    "            break\n",
    "        if user_choice not in choices:\n",
    "            print(\"Invalid choice. Try again.\")\n",
    "            continue\n",
    "\n",
    "        computer_choice = random.choice(choices)\n",
    "        print(f\"Computer chose: {computer_choice}\")\n",
    "\n",
    "        if user_choice == computer_choice:\n",
    "            print(\"It's a tie!\")\n",
    "        elif (\n",
    "            (user_choice == \"rock\" and computer_choice == \"scissors\") or\n",
    "            (user_choice == \"paper\" and computer_choice == \"rock\") or\n",
    "            (user_choice == \"scissors\" and computer_choice == \"paper\")\n",
    "        ):\n",
    "            print(\"You win!\")\n",
    "        else:\n",
    "            print(\"You lose!\")\n",
    "\n",
    "rock_paper_scissors()"
   ]
  },
  {
   "cell_type": "code",
   "execution_count": 15,
   "id": "948eb627-9eab-4a7e-8693-5b56c3f05329",
   "metadata": {},
   "outputs": [
    {
     "name": "stdout",
     "output_type": "stream",
     "text": [
      "Name:B S Darshan\n",
      "USN: 1AY24BT010 \n",
      "Section: N\n",
      " \n",
      "*   *   *   *   *   \n",
      "  *   *   *   *   * \n",
      "*   *   *   *   *   \n",
      "  *   *   *   *   * \n",
      "*   *   *   *   *   \n"
     ]
    }
   ],
   "source": [
    "#Zigzag\n",
    "print('Name:B S Darshan\\nUSN: 1AY24BT010 \\nSection: N\\n ')\n",
    "def print_zigzag(rows, cols):\n",
    "    \"\"\"Prints a zigzag pattern with the given number of rows and columns.\"\"\"\n",
    "    for i in range(rows):\n",
    "        for j in range(cols):\n",
    "            if (i + j) % 2 == 0:\n",
    "                print(\"*\", end=\" \")\n",
    "            else:\n",
    "                print(\" \", end=\" \")\n",
    "        print()\n",
    "\n",
    "print_zigzag(5, 10)"
   ]
  },
  {
   "cell_type": "code",
   "execution_count": 17,
   "id": "580920c3-ede8-4dcb-a6ea-e08bc94295c6",
   "metadata": {},
   "outputs": [
    {
     "name": "stdout",
     "output_type": "stream",
     "text": [
      "Name:B S Darshan\n",
      "USN: 1AY24BT010 \n",
      "Section: N\n",
      " \n",
      "Inventory:\n",
      "45 gold coin\n",
      "1 rope\n",
      "6 torch\n",
      "2 dagger\n",
      "1 ruby\n",
      "Total number of items: 55\n",
      "\n"
     ]
    }
   ],
   "source": [
    "#Fantasy game inventory\n",
    "print('Name:B S Darshan\\nUSN: 1AY24BT010 \\nSection: N\\n ')\n",
    "\n",
    "def display_inventory(inventory):\n",
    "    print(\"Inventory:\")\n",
    "    item_total = 0\n",
    "    for item, count in inventory.items():\n",
    "        print(f\"{count} {item}\")\n",
    "        item_total += count\n",
    "    print(f\"Total number of items: {item_total}\\n\")\n",
    "\n",
    "\n",
    "def add_to_inventory(inventory, added_items):\n",
    "    for item in added_items:\n",
    "        inventory[item] = inventory.get(item, 0) + 1\n",
    "    return inventory\n",
    "\n",
    "\n",
    "inventory = {\n",
    "    'gold coin': 42,\n",
    "    'rope': 1,\n",
    "    'torch': 6,\n",
    "    'dagger': 1\n",
    "}\n",
    "\n",
    "dragon_loot = ['gold coin', 'dagger', 'gold coin', 'gold coin', 'ruby']\n",
    "\n",
    "inventory = add_to_inventory(inventory, dragon_loot)\n",
    "display_inventory(inventory)"
   ]
  },
  {
   "cell_type": "code",
   "execution_count": 19,
   "id": "693eae91-38c2-4f5c-bbea-e14d7e4ad92a",
   "metadata": {},
   "outputs": [
    {
     "name": "stdout",
     "output_type": "stream",
     "text": [
      "Name:B S Darshan\n",
      "USN: 1AY24BT010 \n",
      "Section: N\n",
      " \n",
      "\n",
      "\n",
      "\n",
      "\n",
      "\n",
      "\n",
      " ##  \n",
      "  # #\n",
      "##  #\n",
      "  #  \n",
      "   # \n",
      "\n",
      "\n",
      "\n",
      "\n",
      "\n",
      "\n",
      " ##  \n",
      "  # #\n",
      "### #\n",
      "#####\n",
      " # # \n",
      "\n",
      "\n",
      "\n",
      "\n",
      "\n",
      "\n",
      "##   \n",
      "    #\n",
      "     \n",
      "     \n",
      "     \n",
      "\n",
      "\n",
      "\n",
      "\n",
      "\n",
      "\n",
      "#    \n",
      "#    \n",
      "     \n",
      "     \n",
      "     \n",
      "\n",
      "\n",
      "\n",
      "\n",
      "\n",
      "\n",
      "     \n",
      "     \n",
      "     \n",
      "     \n",
      "     \n"
     ]
    }
   ],
   "source": [
    "#Conways game of life\n",
    "print('Name:B S Darshan\\nUSN: 1AY24BT010 \\nSection: N\\n ')\n",
    "\n",
    "import random, copy\n",
    "\n",
    "WIDTH = 5\n",
    "HEIGHT = 5\n",
    "\n",
    "nextCells = [[random.choice([' ', '#']) for _ in range(WIDTH)] for _ in range(HEIGHT)]\n",
    "\n",
    "for _ in range(5):\n",
    "    print('\\n' * 5)\n",
    "    currentCells = copy.deepcopy(nextCells)\n",
    "\n",
    "    for y in range(HEIGHT):\n",
    "        for x in range(WIDTH):\n",
    "            print(currentCells[y][x], end='')\n",
    "        print()\n",
    "\n",
    "    for y in range(HEIGHT):\n",
    "        for x in range(WIDTH):\n",
    "            left = (x - 1) % WIDTH\n",
    "            right = (x + 1) % WIDTH\n",
    "            above = (y - 1) % HEIGHT\n",
    "            below = (y + 1) % HEIGHT\n",
    "\n",
    "            numNeighbors = 0\n",
    "            for dx in [left, x, right]:\n",
    "                for dy in [above, y, below]:\n",
    "                    if (dx, dy) != (x, y) and currentCells[dy][dx] == '#':\n",
    "                        numNeighbors += 1\n",
    "            if currentCells[y][x] == '#' and (numNeighbors == 2 or numNeighbors == 3):\n",
    "                nextCells[y][x] = '#'\n",
    "            elif currentCells[y][x] == ' ' and numNeighbors == 3:\n",
    "                nextCells[y][x] = '#'\n",
    "            else:\n",
    "                nextCells[y][x] = ' '"
   ]
  },
  {
   "cell_type": "code",
   "execution_count": 21,
   "id": "238c8c93-b535-4d19-983f-e507ebb9bca7",
   "metadata": {},
   "outputs": [
    {
     "name": "stdout",
     "output_type": "stream",
     "text": [
      "Name:B S Darshan\n",
      "USN: 1AY24BT010 \n",
      "Section: N\n",
      " \n",
      "apples, bananas, tofu and cats\n"
     ]
    }
   ],
   "source": [
    "#Commacode\n",
    "print('Name:B S Darshan\\nUSN: 1AY24BT010 \\nSection: N\\n ')\n",
    "\n",
    "def commaCode(items):\n",
    "    if len(items) == 0:\n",
    "        return ''\n",
    "    elif len(items) == 1:\n",
    "        return items[0]\n",
    "    return ', '.join(items[:-1]) + ' and ' + items[-1]\n",
    "\n",
    "print(commaCode(['apples', 'bananas', 'tofu', 'cats']))"
   ]
  },
  {
   "cell_type": "code",
   "execution_count": 23,
   "id": "481681c0-9f7b-4d27-83e5-4104ee7b0cb1",
   "metadata": {},
   "outputs": [
    {
     "name": "stdout",
     "output_type": "stream",
     "text": [
      "Name:B S Darshan\n",
      "USN: 1AY24BT010 \n",
      "Section: N\n",
      " \n",
      "[12, 6, 3, 10, 5, 16, 8, 4, 2, 1]\n"
     ]
    }
   ],
   "source": [
    "#CollatzSequence\n",
    "print('Name:B S Darshan\\nUSN: 1AY24BT010 \\nSection: N\\n ')\n",
    "\n",
    "def collatz_sequence(n):\n",
    "    \"\"\"Generates the Collatz sequence starting from n.\"\"\"\n",
    "    sequence = [n]\n",
    "    while n != 1:\n",
    "        if n % 2 == 0:\n",
    "            n = n // 2\n",
    "        else:\n",
    "            n = 3 * n + 1\n",
    "        sequence.append(n)\n",
    "    return sequence\n",
    "\n",
    "start_number = 12\n",
    "result = collatz_sequence(start_number)\n",
    "print(result)"
   ]
  },
  {
   "cell_type": "code",
   "execution_count": 25,
   "id": "daf94252-5feb-4cad-abac-16c1e0d06002",
   "metadata": {},
   "outputs": [
    {
     "name": "stdout",
     "output_type": "stream",
     "text": [
      "Name:B S Darshan\n",
      "USN: 1AY24BT010 \n",
      "Section: N\n",
      " \n",
      "Chance of a streak of 6 in 100 flips: 80.24%\n"
     ]
    }
   ],
   "source": [
    "#Coinflipstreak\n",
    "print('Name:B S Darshan\\nUSN: 1AY24BT010 \\nSection: N\\n ')\n",
    "import random\n",
    "\n",
    "def coin_flip_streaks():\n",
    "    number_of_streaks = 0\n",
    "    total_simulations = 10000\n",
    "\n",
    "    for experiment in range(total_simulations):\n",
    "        flips = []\n",
    "        for i in range(100):\n",
    "            if random.randint(0, 1) == 0:\n",
    "                flips.append('H')\n",
    "            else:\n",
    "                flips.append('T')\n",
    "\n",
    "        streak_count = 1\n",
    "        for i in range(1, len(flips)):\n",
    "            if flips[i] == flips[i - 1]:\n",
    "                streak_count += 1\n",
    "                if streak_count == 6:\n",
    "                    number_of_streaks += 1\n",
    "                    break  \n",
    "            else:\n",
    "                streak_count = 1\n",
    "\n",
    "    print(f'Chance of a streak of 6 in 100 flips: {number_of_streaks / total_simulations * 100:.2f}%')\n",
    "\n",
    "coin_flip_streaks()"
   ]
  },
  {
   "cell_type": "code",
   "execution_count": 27,
   "id": "1f2fa463-1d0f-44f5-b5d1-93bf9f41f701",
   "metadata": {},
   "outputs": [
    {
     "name": "stdout",
     "output_type": "stream",
     "text": [
      "Name:B S Darshan\n",
      "USN: 1AY24BT010 \n",
      "Section: N\n",
      " \n",
      "The chess board is valid.\n"
     ]
    }
   ],
   "source": [
    "#Chess Dictonary validatory\n",
    "print('Name:B S Darshan\\nUSN: 1AY24BT010 \\nSection: N\\n ')\n",
    "\n",
    "def is_valid_chess_board(board):\n",
    "    valid_positions = [f\"{file}{rank}\" for file in \"abcdefgh\" for rank in \"12345678\"]\n",
    "    valid_pieces = {\n",
    "        \"wking\", \"wqueen\", \"wrook\", \"wbishop\", \"wknight\", \"wpawn\",\n",
    "        \"bking\", \"bqueen\", \"brook\", \"bbishop\", \"bknight\", \"bpawn\"\n",
    "    }\n",
    "\n",
    "    white_king_count = 0\n",
    "    black_king_count = 0\n",
    "    white_pieces = 0\n",
    "    black_pieces = 0\n",
    "\n",
    "    for position, piece in board.items():\n",
    "        if position not in valid_positions:\n",
    "            print(f\"Invalid position: {position}\")\n",
    "            return False\n",
    "\n",
    "        if piece not in valid_pieces:\n",
    "            print(f\"Invalid piece: {piece}\")\n",
    "            return False\n",
    "\n",
    "        if piece == \"wking\":\n",
    "            white_king_count += 1\n",
    "        elif piece == \"bking\":\n",
    "            black_king_count += 1\n",
    "        if piece.startswith(\"w\"):\n",
    "            white_pieces += 1\n",
    "        elif piece.startswith(\"b\"):\n",
    "            black_pieces += 1\n",
    "\n",
    "    if white_king_count != 1 or black_king_count != 1:\n",
    "        print(\"There must be exactly one white king and one black king.\")\n",
    "        return False\n",
    "\n",
    "    if white_pieces > 16 or black_pieces > 16:\n",
    "        print(\"Too many pieces for one side.\")\n",
    "        return False\n",
    "\n",
    "    return True\n",
    "\n",
    "chess_board = {\n",
    "    'e1': 'wking',\n",
    "    'e8': 'bking',\n",
    "    'd1': 'wqueen',\n",
    "    'd8': 'bqueen',\n",
    "    'a1': 'wrook',\n",
    "    'h1': 'wrook',\n",
    "    'a8': 'brook',\n",
    "    'h8': 'brook',\n",
    "    'b1': 'wknight',\n",
    "    'g1': 'wknight',\n",
    "    'b8': 'bknight',\n",
    "    'g8': 'bknight',\n",
    "    'c1': 'wbishop',\n",
    "    'f1': 'wbishop',\n",
    "         'c8': 'bbishop',\n",
    "    'f8': 'bbishop',\n",
    "    'a2': 'wpawn',\n",
    "    'b2': 'wpawn',\n",
    "    'c2': 'wpawn',\n",
    "    'd2': 'wpawn',\n",
    "    'e2': 'wpawn',\n",
    "    'f2': 'wpawn',\n",
    "    'g2': 'wpawn',\n",
    "    'h2': 'wpawn',\n",
    "    'a7': 'bpawn',\n",
    "    'b7': 'bpawn',\n",
    "    'c7': 'bpawn',\n",
    "    'd7': 'bpawn',\n",
    "    'e7': 'bpawn',\n",
    "    'f7': 'bpawn',\n",
    "    'g7': 'bpawn',\n",
    "    'h7': 'bpawn',\n",
    "}\n",
    "\n",
    "if is_valid_chess_board(chess_board):\n",
    "    print(\"The chess board is valid.\")\n",
    "else:\n",
    "    print(\"The chess board is invalid.\")"
   ]
  },
  {
   "cell_type": "code",
   "execution_count": 29,
   "id": "5260d76b-5144-47b1-b711-6d47010f2f1b",
   "metadata": {},
   "outputs": [
    {
     "name": "stdout",
     "output_type": "stream",
     "text": [
      "Name:B S Darshan\n",
      "USN: 1AY24BT010 \n",
      "Section: N\n",
      " \n",
      "..OO.OO..\n",
      ".OOOOOOO.\n",
      ".OOOOOOO.\n",
      "..OOOOO..\n",
      "...OOO...\n",
      "....O....\n"
     ]
    }
   ],
   "source": [
    "#Character picture grid\n",
    "print('Name:B S Darshan\\nUSN: 1AY24BT010 \\nSection: N\\n ')\n",
    "grid = [\n",
    "    ['.', '.', '.', '.', '.', '.'],\n",
    "    ['.', 'O', 'O', '.', '.', '.'],\n",
    "    ['O', 'O', 'O', 'O', '.', '.'],\n",
    "    ['O', 'O', 'O', 'O', 'O', '.'],\n",
    "    ['.', 'O', 'O', 'O', 'O', 'O'],\n",
    "    ['O', 'O', 'O', 'O', 'O', '.'],\n",
    "    ['O', 'O', 'O', 'O', '.', '.'],\n",
    "    ['.', 'O', 'O', '.', '.', '.'],\n",
    "    ['.', '.', '.', '.', '.', '.']\n",
    "]\n",
    "\n",
    "for x in range(len(grid[0])):\n",
    "    for y in range(len(grid)):\n",
    "        print(grid[y][x], end='')\n",
    "    print()"
   ]
  },
  {
   "cell_type": "code",
   "execution_count": 31,
   "id": "479022ec-4868-4361-8436-727873979e83",
   "metadata": {},
   "outputs": [
    {
     "name": "stdout",
     "output_type": "stream",
     "text": [
      "Name:B S Darshan\n",
      "USN: 1AY24BT010 \n",
      "Section: N\n",
      " \n",
      "+----------+-------+-------+\n",
      "|   apples | Alice |  dogs |\n",
      "+----------+-------+-------+\n",
      "|  oranges |   Bob |  cats |\n",
      "+----------+-------+-------+\n",
      "| cherries | Carol | moose |\n",
      "+----------+-------+-------+\n",
      "|   banana | David | goose |\n",
      "+----------+-------+-------+\n"
     ]
    }
   ],
   "source": [
    "#Table printer\n",
    "print('Name:B S Darshan\\nUSN: 1AY24BT010 \\nSection: N\\n ')\n",
    "\n",
    "def print_table_with_lines(table):\n",
    "    col_widths = [max(len(str(item)) for item in col) for col in table]\n",
    "    num_rows = len(table[0])\n",
    "    num_cols = len(table)\n",
    "\n",
    "    def print_border():\n",
    "        border = '+'\n",
    "        for width in col_widths:\n",
    "            border += '-' * (width + 2) + '+'\n",
    "        print(border)\n",
    "\n",
    "    for row in range(num_rows):\n",
    "        print_border()\n",
    "        row_line = '|'\n",
    "        for col in range(num_cols):\n",
    "            item = table[col][row]\n",
    "            row_line += f' {item.rjust(col_widths[col])} |'\n",
    "        print(row_line)\n",
    "    print_border()\n",
    "\n",
    "table_data = [\n",
    "    ['apples', 'oranges', 'cherries', 'banana'],\n",
    "    ['Alice', 'Bob', 'Carol', 'David'],\n",
    "    ['dogs', 'cats', 'moose', 'goose']\n",
    "]\n",
    "\n",
    "print_table_with_lines(table_data)"
   ]
  },
  {
   "cell_type": "code",
   "execution_count": 33,
   "id": "b0102700-8a86-4944-839c-7767ff7983fc",
   "metadata": {},
   "outputs": [
    {
     "name": "stdout",
     "output_type": "stream",
     "text": [
      "Name:B S Darshan\n",
      "USN: 1AY24BT010 \n",
      "Section: N\n",
      " \n",
      "Rolling colour...\n",
      "Results: ['footprint', 'brain', 'footprint', 'footprint', 'brain', 'brain', 'shotgun', 'brain', 'brain', 'brain', 'shotgun', 'footprint', 'brain']\n",
      "Count: {'brain': 7, 'shotgun': 2, 'footprint': 4}\n",
      "Current score: 7\n"
     ]
    },
    {
     "name": "stdin",
     "output_type": "stream",
     "text": [
      "Do you want to roll again? (y/n) y\n"
     ]
    },
    {
     "name": "stdout",
     "output_type": "stream",
     "text": [
      "Rolling colour...\n",
      "Results: ['shotgun', 'footprint', 'brain', 'footprint', 'brain', 'footprint', 'footprint', 'shotgun', 'brain', 'brain', 'brain', 'shotgun', 'brain']\n",
      "Count: {'brain': 6, 'shotgun': 3, 'footprint': 4}\n",
      "You got shotguns! Game over.\n",
      "Final score: 7\n"
     ]
    }
   ],
   "source": [
    "#Zombie dice bots\n",
    "print('Name:B S Darshan\\nUSN: 1AY24BT010 \\nSection: N\\n ')\n",
    "import random as ran\n",
    "import time\n",
    "dice={\n",
    "    'green':{\n",
    "        'brain':3,\n",
    "        'shotgun':1,\n",
    "        'footprint':2\n",
    "    },\n",
    "    'yellow':{\n",
    "        'brain':2,\n",
    "        'shotgun':2,\n",
    "        'footprint':2\n",
    "    },\n",
    "    'red':{\n",
    "        'brain':1,\n",
    "        'shotgun':3,\n",
    "        'footprint':2\n",
    "    }\n",
    "}\n",
    "cup=['green','green','green','green','green','green','yellow','yellow','yellow','yellow','red','red','red']\n",
    "def roll(colour):\n",
    "    result = []\n",
    "    for die in colour:\n",
    "        result.append(ran.choice(list(dice[die].keys())))\n",
    "    return result\n",
    "def count_results(results):\n",
    "    count = {\n",
    "        'brain': 0,\n",
    "        'shotgun': 0,\n",
    "        'footprint': 0\n",
    "    }\n",
    "    for result in results:\n",
    "        count[result] += 1\n",
    "    return count\n",
    "def play_game():\n",
    "    score = 0\n",
    "    while True:\n",
    "        print(\"Rolling colour...\")\n",
    "        results = roll(cup)\n",
    "        print(\"Results:\", results)\n",
    "        count = count_results(results)\n",
    "        print(\"Count:\", count)\n",
    "        if count['shotgun'] >= 3:\n",
    "            print(\"You got shotguns! Game over.\")\n",
    "            break\n",
    "        score += count['brain']\n",
    "        print(\"Current score:\", score)\n",
    "        if input(\"Do you want to roll again? (y/n)\") != 'y':\n",
    "            break\n",
    "    print(\"Final score:\", score)\n",
    "play_game()"
   ]
  },
  {
   "cell_type": "code",
   "execution_count": null,
   "id": "2e6ded69-180c-4ea4-9db3-5be4dc7642a5",
   "metadata": {},
   "outputs": [],
   "source": []
  }
 ],
 "metadata": {
  "kernelspec": {
   "display_name": "Python [conda env:base] *",
   "language": "python",
   "name": "conda-base-py"
  },
  "language_info": {
   "codemirror_mode": {
    "name": "ipython",
    "version": 3
   },
   "file_extension": ".py",
   "mimetype": "text/x-python",
   "name": "python",
   "nbconvert_exporter": "python",
   "pygments_lexer": "ipython3",
   "version": "3.12.7"
  }
 },
 "nbformat": 4,
 "nbformat_minor": 5
}
