{
 "cells": [
  {
   "cell_type": "raw",
   "id": "c1c0af4a-3dde-48b8-9f54-bde57c922156",
   "metadata": {},
   "source": [
    "Name=B S Darshan \n",
    "USN=1AY24BT010\n",
    "Section=N\n",
    "Branch=Biotechnology"
   ]
  },
  {
   "cell_type": "code",
   "execution_count": 3,
   "id": "86dff62e-fe7e-431d-82ff-fef91605479a",
   "metadata": {},
   "outputs": [
    {
     "name": "stdout",
     "output_type": "stream",
     "text": [
      "Name:B S Darshan\n",
      "USN: 1AY24BT010 \n",
      "Section: N\n",
      " \n",
      "--- Original Text ---\n",
      "The ADJECTIVE panda walked to the NOUN and then VERB.A nearby NOUN was unaffected by these events.\n",
      "---------------------\n"
     ]
    },
    {
     "name": "stdin",
     "output_type": "stream",
     "text": [
      "Enter an adjective:  silly\n",
      "Enter an noun:  man\n",
      "Enter an verb:  ate bamboo\n",
      "Enter an noun:  man\n"
     ]
    },
    {
     "name": "stdout",
     "output_type": "stream",
     "text": [
      "\n",
      "=== Your Completed Mad Libs Story ===\n",
      "The silly panda walked to the man and then ate bamboo.A nearby man was unaffected by these events.\n",
      "=======================================\n",
      "\n",
      "--- Story Saved to File: mad_libs_story.txt ---\n"
     ]
    }
   ],
   "source": [
    "#project 1\n",
    "print('Name:B S Darshan\\nUSN: 1AY24BT010 \\nSection: N\\n ')\n",
    "import re,os\n",
    "def read_text_file_content(file_content):\n",
    "    print(\"--- Original Text ---\")\n",
    "    print(file_content)\n",
    "    print(\"---------------------\")\n",
    "    return file_content\n",
    "\n",
    "def process_mad_libs(text_content):\n",
    "    placeholders = re.findall(r'\\b(ADJECTIVE|NOUN|ADVERB|VERB)\\b', text_content)\n",
    "    if not placeholders:\n",
    "        print(\"No Mad Libs placeholders (ADJECTIVE, NOUN, ADVERB, VERB) found in the text.\")\n",
    "        return text_content\n",
    "    for placeholder_type in placeholders:\n",
    "        user_input = input(f\"Enter an {placeholder_type.lower()}: \")\n",
    "        text_content = text_content.replace(placeholder_type, user_input, 1)\n",
    "    \n",
    "    return text_content\n",
    "def save_text_to_file(text_to_save, filename=\"mad_libs_story.txt\"):\n",
    "    try:\n",
    "        with open(filename, 'w') as file:\n",
    "            file.write(text_to_save)\n",
    "        print(f\"\\n--- Story Saved to File: {filename} ---\")\n",
    "    except IOError as e:\n",
    "        print(f\"Error saving file {filename}: {e}\")\n",
    "def main():\n",
    "    example_file_content = \"\"\"The ADJECTIVE panda walked to the NOUN and then VERB.A nearby NOUN was unaffected by these events.\"\"\"\n",
    "    initial_text = read_text_file_content(example_file_content)\n",
    "    final_text = process_mad_libs(initial_text)\n",
    "    print(\"\\n=== Your Completed Mad Libs Story ===\")\n",
    "    print(final_text)\n",
    "    print(\"=======================================\")\n",
    "    save_text_to_file(final_text)\n",
    "\n",
    "if __name__ == \"__main__\":\n",
    "    main()\n"
   ]
  },
  {
   "cell_type": "code",
   "execution_count": 31,
   "id": "87e4d47a-70da-4010-a78e-197b9d832812",
   "metadata": {},
   "outputs": [
    {
     "name": "stdout",
     "output_type": "stream",
     "text": [
      "Name:B S Darshan\n",
      "USN: 1AY24BT010 \n",
      "Section: N\n",
      " \n"
     ]
    },
    {
     "name": "stdin",
     "output_type": "stream",
     "text": [
      "Enter the folder path to search in:  C:\\Users\\bsgam\\Downloads\\python\\python class\n",
      "Enter the regular expression to search for:  Seven Warlord\n"
     ]
    },
    {
     "name": "stdout",
     "output_type": "stream",
     "text": [
      "\n",
      "Searching for 'Seven Warlord' in .txt files in 'C:\\Users\\bsgam\\Downloads\\python\\python class'...\n",
      "\n",
      "--- Searching in file: mad_libs_story.txt ---\n",
      "\n",
      "--- Searching in file: note.txt ---\n",
      "  Line 1: Donquixote Doflamingo  Donkihote Dofuramingo is the captain of the Donquixote Pirates, the usurper king of the island Dressrosa, and formerly one of the Seven Warlords of the Sea.[ch. 234, 682, 728] The String-String Fruit Ito Ito no Mi grants him the ability to control others using movements with his fingers resembling a puppeteer's. It also enables him to control sharp thin strings from his fingertips that can cut people, create clones of himself, and attach to the clouds in the sky to allow him to fly.[ch. 231] He is also capable of utilizing all three types of Haki. He is also a former Celestial Dragon after his father, Donquixote Homing, decided to abandon that life to become a normal human. However, they were chased by the people, tortured, and eventually Doflamingo killed his father. He brought the head of his father back to Mariejois in hopes of receiving his Celestial title back again. He was denied and later became a pirate.\n",
      "\n",
      "--- Searching in file: py.txt ---\n",
      "\n",
      "Search complete.\n"
     ]
    }
   ],
   "source": [
    "#project 2\n",
    "print('Name:B S Darshan\\nUSN: 1AY24BT010 \\nSection: N\\n ')\n",
    "import os,re\n",
    "def search_text_files_for_regex(folder_path, regex_pattern):\n",
    "    try:\n",
    "        compiled_regex = re.compile(regex_pattern)\n",
    "    except re.error as e:\n",
    "        print(f\"Error: Invalid regular expression pattern: {e}\")\n",
    "        return\n",
    "    if not os.path.isdir(folder_path):\n",
    "        print(f\"Error: Folder '{folder_path}' not found.\")\n",
    "        return\n",
    "    found_matches = False\n",
    "    print(f\"\\nSearching for '{regex_pattern}' in .txt files in '{folder_path}'...\")\n",
    "    for filename in os.listdir(folder_path):\n",
    "        if filename.endswith(\".txt\"):\n",
    "            file_path = os.path.join(folder_path, filename)\n",
    "            try:\n",
    "                with open(file_path, 'r', encoding='utf-8') as f:\n",
    "                    print(f\"\\n--- Searching in file: {filename} ---\")\n",
    "                    line_number = 0\n",
    "                    for line in f:\n",
    "                        line_number += 1\n",
    "                        if compiled_regex.search(line):\n",
    "                            found_matches = True\n",
    "                            print(f\"  Line {line_number}: {line.strip()}\")\n",
    "            except UnicodeDecodeError:\n",
    "                print(f\"Warning: Could not read file '{filename}' with UTF-8 encoding. Skipping.\")\n",
    "            except Exception as e:\n",
    "                print(f\"Error processing file '{filename}': {e}\")\n",
    "\n",
    "    if not found_matches:\n",
    "        print(\"\\nNo matching lines found in any .txt files.\")\n",
    "    else:\n",
    "        print(\"\\nSearch complete.\")\n",
    "\n",
    "if __name__ == \"__main__\":\n",
    "    folder = input(\"Enter the folder path to search in: \")\n",
    "    pattern = input(\"Enter the regular expression to search for: \")\n",
    "    search_text_files_for_regex(folder, pattern)\n"
   ]
  },
  {
   "cell_type": "code",
   "execution_count": 29,
   "id": "1c0fc6e3-36c5-433b-9c8e-30c28c233185",
   "metadata": {},
   "outputs": [
    {
     "name": "stdout",
     "output_type": "stream",
     "text": [
      "Name:B S Darshan\n",
      "USN: 1AY24BT010 \n",
      "Section: N\n",
      " \n"
     ]
    },
    {
     "name": "stdin",
     "output_type": "stream",
     "text": [
      "Enter the folder to search in:  C:\\Users\\bsgam\\Downloads\\python\\python lab\n",
      "Enter the folder to copy files to:  C:\\Users\\bsgam\\Downloads\\python\\copied\n",
      "Enter the file extension to search for (e.g., .jpg or .pdf):  txt\n"
     ]
    },
    {
     "name": "stdout",
     "output_type": "stream",
     "text": [
      "Copied: C:\\Users\\bsgam\\Downloads\\python\\python lab\\op.txt -> C:\\Users\\bsgam\\Downloads\\python\\copied\\op.txt\n",
      "Copied: C:\\Users\\bsgam\\Downloads\\python\\python lab\\py.txt -> C:\\Users\\bsgam\\Downloads\\python\\copied\\py.txt\n",
      "Copied: C:\\Users\\bsgam\\Downloads\\python\\python lab\\sorted.txt -> C:\\Users\\bsgam\\Downloads\\python\\copied\\sorted.txt\n",
      "Copied: C:\\Users\\bsgam\\Downloads\\python\\python lab\\.ipynb_checkpoints\\op-checkpoint.txt -> C:\\Users\\bsgam\\Downloads\\python\\copied\\op-checkpoint.txt\n",
      "Copied: C:\\Users\\bsgam\\Downloads\\python\\python lab\\.ipynb_checkpoints\\py-checkpoint.txt -> C:\\Users\\bsgam\\Downloads\\python\\copied\\py-checkpoint.txt\n"
     ]
    }
   ],
   "source": [
    "#project 3\n",
    "print('Name:B S Darshan\\nUSN: 1AY24BT010 \\nSection: N\\n ')\n",
    "import os,shutil\n",
    "source_folder = input(\"Enter the folder to search in: \")\n",
    "destination_folder = input(\"Enter the folder to copy files to: \")\n",
    "extension = input(\"Enter the file extension to search for (e.g., .jpg or .pdf): \")\n",
    "if not os.path.exists(destination_folder):\n",
    "    os.makedirs(destination_folder)\n",
    "for foldername, subfolders, filenames in os.walk(source_folder):\n",
    "    for filename in filenames:\n",
    "        if filename.lower().endswith(extension.lower()):\n",
    "            source_path = os.path.join(foldername, filename)\n",
    "            destination_path = os.path.join(destination_folder, filename)\n",
    "            try:\n",
    "                shutil.copy2(source_path, destination_path)\n",
    "                print(f\"Copied: {source_path} -> {destination_path}\")\n",
    "            except Exception as e:\n",
    "                print(f\"Failed to copy {filename}: {e}\")"
   ]
  },
  {
   "cell_type": "code",
   "execution_count": 25,
   "id": "68fb1d27-683c-48ed-a5b9-d9e0b3fd094c",
   "metadata": {},
   "outputs": [
    {
     "name": "stdout",
     "output_type": "stream",
     "text": [
      "Name:B S Darshan\n",
      "USN: 1AY24BT010 \n",
      "Section: N\n",
      " \n"
     ]
    },
    {
     "name": "stdin",
     "output_type": "stream",
     "text": [
      "Enter the folder path to scan:  C:\\Users\\bsgam\\OneDrive\\Desktop\n"
     ]
    },
    {
     "name": "stdout",
     "output_type": "stream",
     "text": [
      "\n",
      "Files larger than 100MB in 'C:\\Users\\bsgam\\OneDrive\\Desktop':\n",
      "\n",
      "C:\\Users\\bsgam\\OneDrive\\Desktop\\The.Amazing.Spider.Man.2.2014.1080p.BluRay.x264.YIFY.mp4 — 2106.7 MB\n"
     ]
    }
   ],
   "source": [
    "#project 4\n",
    "print('Name:B S Darshan\\nUSN: 1AY24BT010 \\nSection: N\\n ')\n",
    "import os\n",
    "size_limit = 100 * 1024 * 1024 \n",
    "folder_path = input(\"Enter the folder path to scan: \")\n",
    "print(f\"\\nFiles larger than 100MB in '{folder_path}':\\n\")\n",
    "for foldername, subfolders, filenames in os.walk(folder_path):\n",
    "    for filename in filenames:\n",
    "        file_path = os.path.join(foldername, filename)\n",
    "        try:\n",
    "            size = os.path.getsize(file_path)\n",
    "            if size > size_limit:\n",
    "                size_mb = round(size / (1024 * 1024), 2)\n",
    "                print(f\"{file_path} — {size_mb} MB\")\n",
    "        except:\n",
    "            pass  \n"
   ]
  },
  {
   "cell_type": "code",
   "execution_count": 23,
   "id": "dcba98e8-c214-46f5-a0be-d91d7732dcd3",
   "metadata": {},
   "outputs": [
    {
     "name": "stdout",
     "output_type": "stream",
     "text": [
      "Name:B S Darshan\n",
      "USN: 1AY24BT010 \n",
      "Section: N\n",
      " \n",
      "Guess the coin toss! Enter heads or tails:\n"
     ]
    },
    {
     "name": "stdin",
     "output_type": "stream",
     "text": [
      " tails\n"
     ]
    },
    {
     "name": "stdout",
     "output_type": "stream",
     "text": [
      "You got it!\n"
     ]
    }
   ],
   "source": [
    "#project 6\n",
    "print('Name:B S Darshan\\nUSN: 1AY24BT010 \\nSection: N\\n ')\n",
    "import random\n",
    "guess = ''\n",
    "while guess not in ('heads', 'tails'):\n",
    "    print('Guess the coin toss! Enter heads or tails:')\n",
    "    guess = input().lower()  \n",
    "toss = random.randint(0, 1)\n",
    "toss_result = 'heads' if toss == 1 else 'tails'\n",
    "if guess == toss_result:\n",
    "    print('You got it!')\n",
    "else:\n",
    "    print('Nope! Guess again:')\n",
    "    guess = ''\n",
    "    while guess not in ('heads', 'tails'):\n",
    "        guess = input().lower()\n",
    "    if guess == toss_result:\n",
    "        print('You got it!')\n",
    "    else:\n",
    "        print('Nope. You are really bad at this game.')\n"
   ]
  },
  {
   "cell_type": "code",
   "execution_count": 9,
   "id": "e00a59f2-3c07-4eb3-9299-616800c260dc",
   "metadata": {},
   "outputs": [
    {
     "name": "stdout",
     "output_type": "stream",
     "text": [
      "Name:B S Darshan\n",
      "USN: 1AY24BT010 \n",
      "Section: N\n",
      " \n",
      "Point in circle: True\n",
      "Rectangle in circle: True\n",
      "Rectangle overlaps circle: True\n"
     ]
    }
   ],
   "source": [
    "#project 7\n",
    "print('Name:B S Darshan\\nUSN: 1AY24BT010 \\nSection: N\\n ')\n",
    "import math\n",
    "class Point:\n",
    "    def __init__(self, x, y):\n",
    "        self.x = x\n",
    "        self.y = y\n",
    "class Rectangle:\n",
    "    def __init__(self, corner, width, height):\n",
    "        self.corner = corner  # bottom-left corner (Point)\n",
    "        self.width = width\n",
    "        self.height = height\n",
    "class Circle:\n",
    "    def __init__(self, center, radius):\n",
    "        self.center = center\n",
    "        self.radius = radius\n",
    "circle = Circle(Point(150, 100), 75)\n",
    "def point_in_circle(circle, point):\n",
    "    dx = circle.center.x - point.x\n",
    "    dy = circle.center.y - point.y\n",
    "    distance = math.hypot(dx, dy)\n",
    "    return distance <= circle.radius\n",
    "def rect_in_circle(circle, rect):\n",
    "    corners = [\n",
    "        rect.corner,\n",
    "        Point(rect.corner.x + rect.width, rect.corner.y),\n",
    "        Point(rect.corner.x, rect.corner.y + rect.height),\n",
    "        Point(rect.corner.x + rect.width, rect.corner.y + rect.height)\n",
    "    ]\n",
    "    return all(point_in_circle(circle, corner) for corner in corners)\n",
    "def rect_circle_overlap(circle, rect):\n",
    "    corners = [\n",
    "        rect.corner,\n",
    "        Point(rect.corner.x + rect.width, rect.corner.y),\n",
    "        Point(rect.corner.x, rect.corner.y + rect.height),\n",
    "        Point(rect.corner.x + rect.width, rect.corner.y + rect.height)\n",
    "    ]\n",
    "    if any(point_in_circle(circle, corner) for corner in corners):\n",
    "        return True\n",
    "    step = 5  # smaller step = finer resolution\n",
    "    x_start, x_end = rect.corner.x, rect.corner.x + rect.width\n",
    "    y_start, y_end = rect.corner.y, rect.corner.y + rect.height\n",
    "    x = x_start\n",
    "    while x <= x_end:\n",
    "        y = y_start\n",
    "        while y <= y_end:\n",
    "            if point_in_circle(circle, Point(x, y)):\n",
    "                return True\n",
    "            y += step\n",
    "        x += step\n",
    "\n",
    "    return False\n",
    "\n",
    "\n",
    "rect = Rectangle(Point(100, 75), 40, 30)\n",
    "\n",
    "print(\"Point in circle:\", point_in_circle(circle, Point(150, 100)))  \n",
    "print(\"Rectangle in circle:\", rect_in_circle(circle, rect))\n",
    "print(\"Rectangle overlaps circle:\", rect_circle_overlap(circle, rect))\n"
   ]
  },
  {
   "cell_type": "code",
   "execution_count": 7,
   "id": "5b9bb873-efa5-4da3-a846-18ec1a0198c5",
   "metadata": {},
   "outputs": [
    {
     "name": "stdout",
     "output_type": "stream",
     "text": [
      "Name:B S Darshan\n",
      "USN: 1AY24BT010 \n",
      "Section: N\n",
      " \n",
      "Race time: 01:30:00\n",
      "Average pace (per mile): 00:09:00\n"
     ]
    }
   ],
   "source": [
    "#project 8\n",
    "print('Name:B S Darshan\\nUSN: 1AY24BT010 \\nSection: N\\n ')\n",
    "class Time:\n",
    "    def __init__(self, hours=0, minutes=0, seconds=0):\n",
    "        self.hours = hours\n",
    "        self.minutes = minutes\n",
    "        self.seconds = seconds\n",
    "\n",
    "    def __str__(self):\n",
    "        return f\"{self.hours:02}:{self.minutes:02}:{self.seconds:02}\"\n",
    "\n",
    "    def time_to_seconds(self):\n",
    "        return self.hours * 3600 + self.minutes * 60 + self.seconds\n",
    "\n",
    "    @classmethod\n",
    "    def seconds_to_time(cls, total_seconds):\n",
    "        hours = total_seconds // 3600\n",
    "        total_seconds %= 3600\n",
    "        minutes = total_seconds // 60\n",
    "        seconds = total_seconds % 60\n",
    "        return cls(int(hours), int(minutes), int(seconds))\n",
    "\n",
    "\n",
    "def mul_time(time, multiplier):\n",
    "    total_seconds = time.time_to_seconds()\n",
    "    product_seconds = total_seconds * multiplier\n",
    "    return Time.seconds_to_time(product_seconds)\n",
    "\n",
    "\n",
    "def average_pace(finishing_time, distance):\n",
    "    pace_seconds = finishing_time.time_to_seconds() / distance\n",
    "    return Time.seconds_to_time(pace_seconds)\n",
    "race_time = Time(1, 30, 0)  \n",
    "distance = 10  \n",
    "pace = average_pace(race_time, distance)\n",
    "\n",
    "print(\"Race time:\", race_time)\n",
    "print(\"Average pace (per mile):\", pace)"
   ]
  },
  {
   "cell_type": "code",
   "execution_count": 11,
   "id": "2f5b7a91-400a-4a88-b2cc-30929c4df1b0",
   "metadata": {},
   "outputs": [
    {
     "name": "stdout",
     "output_type": "stream",
     "text": [
      "Name:B S Darshan\n",
      "USN: 1AY24BT010 \n",
      "Section: N\n",
      " \n",
      "Today's date: 2025-06-16\n",
      "Day of the week: Monday\n"
     ]
    }
   ],
   "source": [
    "#project 9\n",
    "print('Name:B S Darshan\\nUSN: 1AY24BT010 \\nSection: N\\n ')\n",
    "import datetime\n",
    "\n",
    "def print_current_day_of_week():\n",
    "    today = datetime.date.today()\n",
    "    print(\"Today's date:\", today)\n",
    "    print(\"Day of the week:\", today.strftime(\"%A\"))\n",
    "\n",
    "print_current_day_of_week()\n"
   ]
  },
  {
   "cell_type": "code",
   "execution_count": 15,
   "id": "ba3105af-d314-489d-adc1-a21f9b579733",
   "metadata": {},
   "outputs": [
    {
     "name": "stdout",
     "output_type": "stream",
     "text": [
      "Name:B S Darshan\n",
      "USN: 1AY24BT010 \n",
      "Section: N\n",
      " \n"
     ]
    },
    {
     "name": "stdin",
     "output_type": "stream",
     "text": [
      "Enter your birthday (YYYY-MM-DD):  2006-05-31\n"
     ]
    },
    {
     "name": "stdout",
     "output_type": "stream",
     "text": [
      "You are 19 years old.\n",
      "Time until your next birthday: 348 days, 7 hours, 52 minutes, 1 seconds.\n"
     ]
    }
   ],
   "source": [
    "#project 9\n",
    "print('Name:B S Darshan\\nUSN: 1AY24BT010 \\nSection: N\\n ')\n",
    "def birthday_info():\n",
    "    birth_str = input(\"Enter your birthday (YYYY-MM-DD): \")\n",
    "    birthday = datetime.datetime.strptime(birth_str, \"%Y-%m-%d\").date()\n",
    "    \n",
    "    today = datetime.date.today()\n",
    "    age = today.year - birthday.year\n",
    "    if (today.month, today.day) < (birthday.month, birthday.day):\n",
    "        age -= 1\n",
    "\n",
    "    next_birthday = birthday.replace(year=today.year)\n",
    "    if next_birthday < today:\n",
    "        next_birthday = next_birthday.replace(year=today.year + 1)\n",
    "\n",
    "    time_until = datetime.datetime.combine(next_birthday, datetime.time()) - datetime.datetime.now()\n",
    "\n",
    "    print(f\"You are {age} years old.\")\n",
    "    print(f\"Time until your next birthday: {time_until.days} days, \"\n",
    "          f\"{time_until.seconds // 3600} hours, \"\n",
    "          f\"{(time_until.seconds % 3600) // 60} minutes, \"\n",
    "          f\"{time_until.seconds % 60} seconds.\")\n",
    "\n",
    "birthday_info()"
   ]
  },
  {
   "cell_type": "code",
   "execution_count": 17,
   "id": "9d485a19-bc6b-4d22-86d0-f26ac4e40815",
   "metadata": {},
   "outputs": [
    {
     "name": "stdout",
     "output_type": "stream",
     "text": [
      "Name:B S Darshan\n",
      "USN: 1AY24BT010 \n",
      "Section: N\n",
      " \n",
      "Double Day is: 2014-04-12\n"
     ]
    }
   ],
   "source": [
    "#project 9\n",
    "print('Name:B S Darshan\\nUSN: 1AY24BT010 \\nSection: N\\n ')\n",
    "def find_double_day(birth1_str, birth2_str):\n",
    "    birth1 = datetime.datetime.strptime(birth1_str, \"%Y-%m-%d\").date()\n",
    "    birth2 = datetime.datetime.strptime(birth2_str, \"%Y-%m-%d\").date()\n",
    "    if birth2 < birth1:\n",
    "        birth1, birth2 = birth2, birth1\n",
    "\n",
    "    delta = birth2 - birth1\n",
    "    double_day = birth2 + delta\n",
    "    print(\"Double Day is:\", double_day.strftime(\"%Y-%m-%d\"))\n",
    "\n",
    "find_double_day(\"1998-07-19\", \"2006-05-31\")\n"
   ]
  },
  {
   "cell_type": "code",
   "execution_count": 19,
   "id": "5ecdc02e-6c40-4a11-a1bd-b0f40bc6f6c8",
   "metadata": {},
   "outputs": [
    {
     "name": "stdout",
     "output_type": "stream",
     "text": [
      "Name:B S Darshan\n",
      "USN: 1AY24BT010 \n",
      "Section: N\n",
      " \n",
      "09:45:00\n",
      "10:07:17\n",
      "Is end after start? True\n"
     ]
    }
   ],
   "source": [
    "#project 10\n",
    "print('Name:B S Darshan\\nUSN: 1AY24BT010 \\nSection: N\\n ')\n",
    "class Time:\n",
    "    def __init__(self, hour=0, minute=0, second=0):\n",
    "        self.seconds = hour * 3600 + minute * 60 + second\n",
    "def print_time(time):\n",
    "    hours, remainder = divmod(time.seconds, 3600)\n",
    "    minutes, seconds = divmod(remainder, 60)\n",
    "    print('%.2d:%.2d:%.2d' % (hours, minutes, seconds))\n",
    "def time_to_int(time):\n",
    "    return time.seconds\n",
    "def int_to_time(seconds):\n",
    "    time = Time()\n",
    "    time.seconds = seconds\n",
    "    return time\n",
    "def add_time(t1, t2):\n",
    "    total = t1.seconds + t2.seconds\n",
    "    return int_to_time(total)\n",
    "def increment(time, seconds):\n",
    "    return int_to_time(time.seconds + seconds)\n",
    "def is_after(t1, t2):\n",
    "    return t1.seconds > t2.seconds\n",
    "def main():\n",
    "    start = Time(9, 45, 0)\n",
    "    print_time(start)\n",
    "    end = increment(start, 1337)\n",
    "    print_time(end)\n",
    "    print('Is end after start?', is_after(end, start))\n",
    "\n",
    "if __name__ == '__main__':\n",
    "    main()\n"
   ]
  },
  {
   "cell_type": "code",
   "execution_count": 21,
   "id": "45a7a535-5374-4f97-ab01-4ee907a6184c",
   "metadata": {},
   "outputs": [
    {
     "name": "stdout",
     "output_type": "stream",
     "text": [
      "Name:B S Darshan\n",
      "USN: 1AY24BT010 \n",
      "Section: N\n",
      " \n",
      "Kangaroo with pouch contents: [apple, banana, Kangaroo with pouch contents: []]\n",
      "Kangaroo with pouch contents: []\n"
     ]
    }
   ],
   "source": [
    "#project 11\n",
    "print('Name:B S Darshan\\nUSN: 1AY24BT010 \\nSection: N\\n ')\n",
    "class Kangaroo:\n",
    "    def __init__(self):\n",
    "        self.pouch_contents = []\n",
    "    def put_in_pouch(self, item):\n",
    "        self.pouch_contents.append(item)\n",
    "    def __str__(self):\n",
    "        contents = ', '.join(str(item) for item in self.pouch_contents)\n",
    "        return f'Kangaroo with pouch contents: [{contents}]'\n",
    "kanga = Kangaroo()\n",
    "roo = Kangaroo()\n",
    "kanga.put_in_pouch('apple')\n",
    "kanga.put_in_pouch('banana')\n",
    "kanga.put_in_pouch(roo)\n",
    "print(kanga)\n",
    "print(roo)\n"
   ]
  },
  {
   "cell_type": "code",
   "execution_count": null,
   "id": "e4b0a416-46d3-44c5-a44d-354f721320c2",
   "metadata": {},
   "outputs": [],
   "source": []
  }
 ],
 "metadata": {
  "kernelspec": {
   "display_name": "Python [conda env:base] *",
   "language": "python",
   "name": "conda-base-py"
  },
  "language_info": {
   "codemirror_mode": {
    "name": "ipython",
    "version": 3
   },
   "file_extension": ".py",
   "mimetype": "text/x-python",
   "name": "python",
   "nbconvert_exporter": "python",
   "pygments_lexer": "ipython3",
   "version": "3.12.7"
  }
 },
 "nbformat": 4,
 "nbformat_minor": 5
}
